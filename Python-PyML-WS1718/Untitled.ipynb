{
 "cells": [
  {
   "cell_type": "code",
   "execution_count": null,
   "metadata": {},
   "outputs": [],
   "source": [
    "def g(x,y):\n",
    "      return(x**2+y**2)**.5\n",
    "print (g(0,1),g(3,4))\n"
   ]
  },
  {
   "cell_type": "code",
   "execution_count": null,
   "metadata": {},
   "outputs": [],
   "source": [
    "L = [.5,1]\n",
    "\n",
    "print([[(a-b)**2 for a in L] for b in L])"
   ]
  },
  {
   "cell_type": "code",
   "execution_count": null,
   "metadata": {},
   "outputs": [],
   "source": [
    "import numpy\n",
    "D= numpy.diag([2.0,4.0])\n",
    "print (D-D.mean(axis=0))"
   ]
  },
  {
   "cell_type": "code",
   "execution_count": null,
   "metadata": {},
   "outputs": [],
   "source": [
    "z = (lambda x,y: x**2+y**2)(2,(lambda a: a**.5)(4))*3\n",
    "print(z)"
   ]
  },
  {
   "cell_type": "code",
   "execution_count": null,
   "metadata": {
    "scrolled": true
   },
   "outputs": [],
   "source": [
    "a=0\n",
    "l = [1,0,1,1]\n",
    "for e in l[::-1]:\n",
    "  a*=2\n",
    "  a+=e\n",
    "print(a)"
   ]
  },
  {
   "cell_type": "code",
   "execution_count": null,
   "metadata": {},
   "outputs": [],
   "source": [
    "import numpy\n",
    "def f(x,z) :\n",
    "    N,d = X.shape\n",
    "    M,d = Z.shape\n",
    "    outputs = numpy.zeros([N],dtype=bool)\n",
    "    for i in range(N):\n",
    "        match = False\n",
    "    for j in range(M):\n",
    "        dist = 0\n",
    "        for k in range(d):\n",
    "        dist t = numpy.abs(X[i,k]-Z[j,k])\n",
    "        match = match or (dist<10.0)\n",
    "        outputs[i]=match\n",
    "return outputs"
   ]
  },
  {
   "cell_type": "code",
   "execution_count": null,
   "metadata": {},
   "outputs": [],
   "source": [
    "import matplotlib\n",
    "import matplotlib.pyplot as plt\n",
    "%matplotlib inline\n",
    "\n",
    "x=numpy.arrange(-3,3)\n",
    "y=numpy.arrange(-3,3)\n"
   ]
  },
  {
   "cell_type": "code",
   "execution_count": null,
   "metadata": {},
   "outputs": [],
   "source": [
    "player1 = 0\n",
    "player2 = 0\n",
    "\n",
    "a = range(0,3);b = range(4,7)[::-1];c = range(8,11)\n",
    "print \"Snakes and Ladders game\"\n",
    "print j,'\\n',i,'\\n',h,'\\n',g,'\\n',f,'\\n',e,'\\n',d,'\\n',c,'\\n',b,'\\n',a\n",
    "\n",
    "def check_for_snakes_and_ladders(n):\n",
    "\t\"\"\"This method checks for the presence of snakes or ladders in the board\"\"\"\n",
    "\tladders = {1:38,4:14,9:31,21:42,28:84,36:44,51:67,71:91,80:100}\n",
    "\tsnakes = {98:78,95:75,93:73,87:24,64:60,62:19,56:53,49:11,48:26,16:6}\n",
    "\tif ladders.has_key(n):\n",
    "\t\tprint \"Its a ladder,Climb up\"\n",
    "\t\tn = ladders[n]\n",
    "\telif snakes.has_key(n):\n",
    "\t\tprint \"Its a snake!!,Come down\"\n",
    "\t\tn = snakes[n]\n",
    "\treturn n\n",
    "\n",
    "\n",
    "def roll_dice(r):\n",
    "\t\"\"\"This method takes input from each of the players, prints the current position of the players and checks for the\n",
    "\twinner of the game\"\"\"\n",
    "\td = int(raw_input(\"roll the dice: \"))\n",
    "\twhile d < 1 or d > 6:\n",
    "\t\td = int(raw_input(\"dice should show 1 to 6,Roll the dice again: \"))\n",
    "\td = r + d\n",
    "\treturn d\n",
    "\n",
    "while player1 < 100 or player2 < 100:\n",
    "\tprint \"Its turn of player1\\n\"\n",
    "\tplayer1 = roll_dice(player1)\n",
    "\tplayer1 = check_for_snakes_and_ladders(player1)\n",
    "\tprint \"Current status of Player1:\",player1,\"and Player2:\",player2\n",
    "\n",
    "\tif player1 > 99:\n",
    "\t\tprint \"Winner of the game is player1\"\n",
    "\t\tbreak\n",
    "\n",
    "\tprint \"Its turn of player2\\n\"\n",
    "\tplayer2 = roll_dice(player2)\n",
    "\tplayer2 = check_for_snakes_and_ladders(player2)\n",
    "\tprint \"Current status of Player1:\",player1,\" and Player2:\",player2\n",
    "\n",
    "\tif player2 > 99:\n",
    "\t\tprint \"Winner of the game is player2\"\n",
    "\t\tbreak"
   ]
  },
  {
   "cell_type": "code",
   "execution_count": null,
   "metadata": {
    "collapsed": true
   },
   "outputs": [],
   "source": [
    "import random\n",
    "\n",
    "# Snakes and Ladders dictionary\n",
    "SaLdic = {2: 10,\n",
    "          9: 1,\n",
    "          }\n",
    "\n",
    "\n",
    "# Player class\n",
    "class Player:\n",
    "\tdef __init__(self, inPlayerNum):\n",
    "\t\tself.playerPos = 1\n",
    "\t\tself.playerNum = inPlayerNum\n",
    "\n",
    "\tdef updatePosition(self, inPos):\n",
    "\t\tself.playerPos = inPos\n",
    "\n",
    "\tdef getPosition(self):\n",
    "\t\treturn self.playerPos\n",
    "\n",
    "\tdef getPlayerNum(self):\n",
    "\t\treturn self.playerNum\n",
    "\n",
    "\n",
    "# Function to handle the players turn\n",
    "def gameMaster(inPlayer):\n",
    "\tglobal winner\n",
    "\t# check for game winner\n",
    "\tif inPlayer.getPosition() == 11:\n",
    "\t\t\tprint(\"Player %i is the Winner!\" % inPlayer.getPlayerNum())\n",
    "\t\t\twinner = True\n",
    "\n",
    "\t# run dice rolls and movements\n",
    "\tif winner == False:\n",
    "\t\tprint(\"\\n----Player %i Hit enter to roll----\" % inPlayer.getPlayerNum())\n",
    "\t\t# Uncomment to require space to be pressed before jumping turns\n",
    "\t\t# input()\n",
    "\t\troll = rollDice()\n",
    "\t\tprint(\"You rolled: %i\" % roll)\n",
    "\t\tmovePlayer(inPlayer, roll)\n",
    "\t\tcheckPosition(inPlayer)\n",
    "\n",
    "\n",
    "# Function to return the Integer value of a 6 side dice roll\n",
    "def rollDice():\n",
    "    return random.randint(1,6)\n",
    "\n",
    "# Handle player movements\n",
    "def movePlayer(inPlayer, roll):\n",
    "\tif inPlayer.getPosition() + roll <= 11:\n",
    "\t\tinPlayer.updatePosition(inPlayer.getPosition() + roll)\n",
    "\t\tprint(\"You are at spot %i\" % inPlayer.getPosition())\n",
    "\telse:\n",
    "\t\tprint(\"You rolled too far\")\n",
    "\n",
    "\n",
    "# Checks player landing position and adjusts if snake or ladder\n",
    "def checkPosition(inPlayer):\n",
    "\tfor pos in SaLdic:\n",
    "\t\tif pos == inPlayer.getPosition():\n",
    "\t\t\tif pos < SaLdic[pos]:\n",
    "\t\t\t\tprint(\"You climbed a Ladder to spot %i\" % SaLdic[pos])\n",
    "\t\t\telse:\n",
    "\t\t\t\tprint(\"You rode a Snake to spot %i\" % SaLdic[pos])\n",
    "\t\t\tinPlayer.updatePosition(SaLdic[pos])\n",
    "\n",
    "\n",
    "# Program entrance\n",
    "if __name__ == '__main__':\n",
    "\tglobal winner\n",
    "\twinner = False\n",
    "\tnumPlayers = int(input('Enter number of players: '))\n",
    "\tplayerList = []\n",
    "\t\n",
    "\tfor i in range(0,numPlayers):\n",
    "\t\tplayerList.append(Player(i + 1))\n",
    "\t\t\n",
    "\twhile winner == False:\n",
    "\t\tfor i in playerList:\n",
    "\t\t\tif winner == False:\n",
    "\t\t\t\tgameMaster(i)"
   ]
  },
  {
   "cell_type": "code",
   "execution_count": null,
   "metadata": {
    "collapsed": true
   },
   "outputs": [],
   "source": [
    "import numpy\n",
    "def f(x,z) :\n",
    "    N,d = X.shape\n",
    "    M,d = Z.shape\n",
    "    outputs = numpy.zeros([N],dtype=bool)\n",
    "    for i in range(N):\n",
    "        match = False\n",
    "    for j in range(M):\n",
    "        dist = 0\n",
    "        for k in range(d):\n",
    "        dist t = numpy.dbs(X[:newaxis[i],k]-Z[j,k])\n",
    "        match = match or (dist<10.0)\n",
    "        outputs[i]=match\n",
    "return outputs"
   ]
  },
  {
   "cell_type": "code",
   "execution_count": null,
   "metadata": {
    "collapsed": true
   },
   "outputs": [],
   "source": [
    "import matplotlib.pyplot as plt\n",
    "from sklearn.metrics.pairwise \n",
    "import euclidean_distances\n",
    "%matplotlib inline\n",
    "data=np.random.randint(-3,3,size=(500,2))\n",
    "a=euclidean_distances(data,[[0,0]])\n",
    "b_point=np.where(a<=1)[0]\n",
    "b_point\n",
    "B=[]#BLACK POINTS AARAY\n",
    "for i in b_point:\n",
    "    B.append(data[i])\n",
    "g_point=np.where(a>1)[0]\n",
    "b_point\n",
    "G=[]#GREY POINT ARRAY\n",
    "for i in g_point:\n",
    "    G.append(data[i])\n",
    "fig = plt.figure()\n",
    "ax1 = fig.add_subplot(111)\n",
    "ax1.scatter((*zip(*data)))\n",
    "ax1.scatter((*zip(*gray)))\n",
    "ax1.scatter((*zip(*black)))\n",
    "plt.legend(['All points with E_distance'],loc='upper left')\n",
    "plt.show()#SHOWING ALL POINTS\n",
    "plt.scatter((*zip(*B)), cmap=plt.Arrow)\n",
    "plt.legend(['All points with E_distance <=1'],loc='upper left')\n",
    "plt.show()#pLOT FOR BLACK POINTS\n",
    "plt.scatter((*zip(*G)))\n",
    "plt.legend(['All points with E_distance >1'],loc='upper left')\n",
    "plt.show()#PLOT FOR GRAY POINTS"
   ]
  },
  {
   "cell_type": "code",
   "execution_count": 61,
   "metadata": {
    "collapsed": true
   },
   "outputs": [],
   "source": [
    "def move(currentState):\n",
    "    \n",
    "    dice = numpy.random.randint(1,7)\n",
    "    print('Dice Number',dice)\n",
    "    sum = dice + currentState\n",
    "    \n",
    "    \n",
    "    if sum > 11 :\n",
    "        return currentState\n",
    "    elif sum == 2:\n",
    "        return 10\n",
    "    elif sum == 9:\n",
    "        return 1\n",
    "    else:\n",
    "        return sum"
   ]
  },
  {
   "cell_type": "code",
   "execution_count": 67,
   "metadata": {},
   "outputs": [
    {
     "data": {
      "text/plain": [
       "2"
      ]
     },
     "execution_count": 67,
     "metadata": {},
     "output_type": "execute_result"
    }
   ],
   "source": [
    "1 \n",
    "5\n",
    "9\n",
    "2"
   ]
  },
  {
   "cell_type": "code",
   "execution_count": 63,
   "metadata": {},
   "outputs": [
    {
     "data": {
      "text/plain": [
       "9"
      ]
     },
     "execution_count": 63,
     "metadata": {},
     "output_type": "execute_result"
    }
   ],
   "source": [
    "9"
   ]
  },
  {
   "cell_type": "code",
   "execution_count": 64,
   "metadata": {},
   "outputs": [
    {
     "data": {
      "text/plain": [
       "1"
      ]
     },
     "execution_count": 64,
     "metadata": {},
     "output_type": "execute_result"
    }
   ],
   "source": [
    "1"
   ]
  },
  {
   "cell_type": "code",
   "execution_count": 65,
   "metadata": {
    "collapsed": true
   },
   "outputs": [],
   "source": [
    "def play():\n",
    "    count = 0\n",
    "    state = 0\n",
    "    \n",
    "    while True:\n",
    "        count += 1\n",
    "        state = move(state) \n",
    "        print(state)\n",
    "        if(state == 11):\n",
    "            break\n",
    "\n",
    "    return count"
   ]
  },
  {
   "cell_type": "code",
   "execution_count": null,
   "metadata": {
    "collapsed": true
   },
   "outputs": [],
   "source": []
  },
  {
   "cell_type": "code",
   "execution_count": null,
   "metadata": {
    "collapsed": true
   },
   "outputs": [],
   "source": []
  }
 ],
 "metadata": {
  "anaconda-cloud": {},
  "kernelspec": {
   "display_name": "Python [default]",
   "language": "python",
   "name": "python2"
  },
  "language_info": {
   "codemirror_mode": {
    "name": "ipython",
    "version": 2
   },
   "file_extension": ".py",
   "mimetype": "text/x-python",
   "name": "python",
   "nbconvert_exporter": "python",
   "pygments_lexer": "ipython2",
   "version": "2.7.12"
  }
 },
 "nbformat": 4,
 "nbformat_minor": 1
}
